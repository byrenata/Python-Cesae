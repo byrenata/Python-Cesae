{
 "cells": [
  {
   "cell_type": "code",
   "execution_count": null,
   "id": "b777a173",
   "metadata": {
    "vscode": {
     "languageId": "plaintext"
    }
   },
   "outputs": [],
   "source": [
    "print(mensagem)"
   ]
  },
  {
   "cell_type": "code",
   "execution_count": null,
   "id": "c06e235d",
   "metadata": {
    "vscode": {
     "languageId": "plaintext"
    }
   },
   "outputs": [],
   "source": [
    "mensagem = 'Olá mundo, mais informações'\n",
    "\n",
    "print(mensagem)\n"
   ]
  },
  {
   "cell_type": "markdown",
   "id": "660c9947",
   "metadata": {},
   "source": []
  }
 ],
 "metadata": {
  "language_info": {
   "name": "python"
  }
 },
 "nbformat": 4,
 "nbformat_minor": 5
}
