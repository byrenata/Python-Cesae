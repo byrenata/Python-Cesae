{
 "cells": [
  {
   "cell_type": "markdown",
   "id": "655b1e58",
   "metadata": {},
   "source": []
  },
  {
   "cell_type": "markdown",
   "id": "366e91f5",
   "metadata": {},
   "source": [
    "1. Análise de Frase\n",
    "Crie um programa que:\n",
    "a) Peça ao utilizador que insira uma frase;\n",
    "b) Peça uma palavra e verifique se essa palavra existe na frase;\n",
    "c) Substitua todos os espaços por ‘-’;\n",
    "d) Verifique se a frase começa por “Olá” ou termina com “!”."
   ]
  },
  {
   "cell_type": "code",
   "execution_count": null,
   "id": "63a35b72",
   "metadata": {},
   "outputs": [
    {
     "name": "stdout",
     "output_type": "stream",
     "text": [
      "A palavra existe na frase\n"
     ]
    }
   ],
   "source": [
    "frase = str(input(\"Insira uma frase: \"))\n",
    "palavra = input(\"Insira uma palavra: \")\n",
    "\n",
    "if palavra in frase:\n",
    "    print(\"A palavra existe na frase\")\n",
    "else:\n",
    "    print(\"A palavra não existe na frase.\")"
   ]
  },
  {
   "cell_type": "code",
   "execution_count": null,
   "id": "ea784920",
   "metadata": {},
   "outputs": [
    {
     "data": {
      "text/plain": [
       "'A-vida-é-bela'"
      ]
     },
     "execution_count": 4,
     "metadata": {},
     "output_type": "execute_result"
    }
   ],
   "source": [
    "frase = str(input(\"Insira uma frase: \"))\n",
    "frase.replace(\" \",\"-\")"
   ]
  },
  {
   "cell_type": "code",
   "execution_count": 10,
   "id": "d7076242",
   "metadata": {},
   "outputs": [
    {
     "name": "stdout",
     "output_type": "stream",
     "text": [
      "True\n",
      "True\n"
     ]
    }
   ],
   "source": [
    "frase = str(input(\"Insira uma frase: \")).strip()\n",
    "print(frase[:3] == \"Olá\") or print(\"!\" in frase)"
   ]
  }
 ],
 "metadata": {
  "kernelspec": {
   "display_name": "Python 3",
   "language": "python",
   "name": "python3"
  },
  "language_info": {
   "codemirror_mode": {
    "name": "ipython",
    "version": 3
   },
   "file_extension": ".py",
   "mimetype": "text/x-python",
   "name": "python",
   "nbconvert_exporter": "python",
   "pygments_lexer": "ipython3",
   "version": "3.10.11"
  }
 },
 "nbformat": 4,
 "nbformat_minor": 5
}
