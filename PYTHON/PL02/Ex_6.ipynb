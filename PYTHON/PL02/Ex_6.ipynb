{
 "cells": [
  {
   "cell_type": "markdown",
   "id": "4e91ced2",
   "metadata": {},
   "source": [
    "6. Jogo de Adivinhação\n",
    "Peça repetidamente ao utilizador para inserir uma palavra até que escreva a palavra correta (exemplo:\n",
    "“python”)."
   ]
  },
  {
   "cell_type": "code",
   "execution_count": 3,
   "id": "59659616",
   "metadata": {},
   "outputs": [
    {
     "name": "stdout",
     "output_type": "stream",
     "text": [
      "Tente adivinhar a palavra\n",
      "Tente novamente\n",
      "Tente novamente\n",
      "Tente novamente\n",
      "*** Acertou!! ***\n"
     ]
    }
   ],
   "source": [
    "secreta = \"cesae\"\n",
    "palavra = \"\"\n",
    "\n",
    "print(\"Tente adivinhar a palavra\")\n",
    "\n",
    "while palavra != secreta:\n",
    "    palavra = str(input(\"Adivinhe a palavra: \").lower())\n",
    "    if palavra == secreta:\n",
    "        print(\"*** Acertou!! ***\")\n",
    "    else:\n",
    "        print(\"Tente novamente\")"
   ]
  }
 ],
 "metadata": {
  "kernelspec": {
   "display_name": "Python 3",
   "language": "python",
   "name": "python3"
  },
  "language_info": {
   "codemirror_mode": {
    "name": "ipython",
    "version": 3
   },
   "file_extension": ".py",
   "mimetype": "text/x-python",
   "name": "python",
   "nbconvert_exporter": "python",
   "pygments_lexer": "ipython3",
   "version": "3.10.11"
  }
 },
 "nbformat": 4,
 "nbformat_minor": 5
}
