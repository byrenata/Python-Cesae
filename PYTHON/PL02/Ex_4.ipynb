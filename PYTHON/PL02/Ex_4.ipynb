{
 "cells": [
  {
   "cell_type": "markdown",
   "id": "98b828d7",
   "metadata": {},
   "source": [
    "4. Manipulação e Análise de Texto\n",
    "a) Conte quantas vogais existem na frase fornecida pelo utilizador;\n",
    "b) Imprima a frase ao contrário;\n",
    "c) Peça uma frase e mostre cada palavra separadamente;\n",
    "d) Junte uma lista de palavras com espaço entre elas utilizando ' '.join(lista)."
   ]
  },
  {
   "cell_type": "code",
   "execution_count": 2,
   "id": "a067050c",
   "metadata": {},
   "outputs": [
    {
     "name": "stdout",
     "output_type": "stream",
     "text": [
      "A arara azul arrepiou.\n",
      "Encontei 11 vogais dentro da frase\n"
     ]
    }
   ],
   "source": [
    "vogais = \"a,e,i,o,u\"\n",
    "frase = input(\"Digite uma frase: \")\n",
    "c=0\n",
    "for letra in frase:\n",
    "    if letra.lower() in vogais:\n",
    "        c += 1\n",
    "print(frase)\n",
    "print(f\"Encontei {c} vogais dentro da frase\")\n",
    "\n"
   ]
  },
  {
   "cell_type": "code",
   "execution_count": 3,
   "id": "c42ac670",
   "metadata": {},
   "outputs": [
    {
     "name": "stdout",
     "output_type": "stream",
     "text": [
      ".uoiperra luza arara A\n"
     ]
    }
   ],
   "source": [
    "print(frase[::-1])"
   ]
  },
  {
   "cell_type": "code",
   "execution_count": 4,
   "id": "26d3c0a9",
   "metadata": {},
   "outputs": [
    {
     "name": "stdout",
     "output_type": "stream",
     "text": [
      "['A', 'arara', 'azul', 'arrepiou.']\n"
     ]
    }
   ],
   "source": [
    "print(frase.split())"
   ]
  },
  {
   "cell_type": "code",
   "execution_count": 5,
   "id": "c55386e2",
   "metadata": {},
   "outputs": [
    {
     "name": "stdout",
     "output_type": "stream",
     "text": [
      "A   a r a r a   a z u l   a r r e p i o u .\n"
     ]
    }
   ],
   "source": [
    "print(\" \".join(frase))"
   ]
  }
 ],
 "metadata": {
  "kernelspec": {
   "display_name": "Python 3",
   "language": "python",
   "name": "python3"
  },
  "language_info": {
   "codemirror_mode": {
    "name": "ipython",
    "version": 3
   },
   "file_extension": ".py",
   "mimetype": "text/x-python",
   "name": "python",
   "nbconvert_exporter": "python",
   "pygments_lexer": "ipython3",
   "version": "3.10.11"
  }
 },
 "nbformat": 4,
 "nbformat_minor": 5
}
