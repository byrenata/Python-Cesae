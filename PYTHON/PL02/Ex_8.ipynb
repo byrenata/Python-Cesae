{
 "cells": [
  {
   "cell_type": "markdown",
   "id": "a602d917",
   "metadata": {},
   "source": [
    "8. String Multilinha e Pesquisa\n",
    "Crie uma string em várias linhas usando três apóstrofos"
   ]
  },
  {
   "cell_type": "code",
   "execution_count": 2,
   "id": "62745311",
   "metadata": {},
   "outputs": [
    {
     "name": "stdout",
     "output_type": "stream",
     "text": [
      " lalalalalalala\n",
      "lalalalalala\n",
      "lalalalalala  \n"
     ]
    }
   ],
   "source": [
    "a = ''' lalalalalalala\n",
    "lalalalalala\n",
    "lalalalalala  '''\n",
    "print(a)"
   ]
  }
 ],
 "metadata": {
  "kernelspec": {
   "display_name": "Python 3",
   "language": "python",
   "name": "python3"
  },
  "language_info": {
   "codemirror_mode": {
    "name": "ipython",
    "version": 3
   },
   "file_extension": ".py",
   "mimetype": "text/x-python",
   "name": "python",
   "nbconvert_exporter": "python",
   "pygments_lexer": "ipython3",
   "version": "3.10.11"
  }
 },
 "nbformat": 4,
 "nbformat_minor": 5
}
