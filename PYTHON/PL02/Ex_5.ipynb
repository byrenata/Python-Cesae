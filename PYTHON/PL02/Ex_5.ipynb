{
 "cells": [
  {
   "cell_type": "markdown",
   "id": "a635ab33",
   "metadata": {},
   "source": [
    "5. Validação de Entrada\n",
    "Peça ao utilizador um nome e verifique se contém apenas letras. Se sim, imprima o nome em maiúsculas."
   ]
  },
  {
   "cell_type": "code",
   "execution_count": 7,
   "id": "d386b701",
   "metadata": {},
   "outputs": [
    {
     "name": "stdout",
     "output_type": "stream",
     "text": [
      "ANA\n"
     ]
    }
   ],
   "source": [
    "nome = str(input(\"Digite seu nome: \"))\n",
    "\n",
    "if nome.isalpha():\n",
    "    print(nome.upper())"
   ]
  }
 ],
 "metadata": {
  "kernelspec": {
   "display_name": "Python 3",
   "language": "python",
   "name": "python3"
  },
  "language_info": {
   "codemirror_mode": {
    "name": "ipython",
    "version": 3
   },
   "file_extension": ".py",
   "mimetype": "text/x-python",
   "name": "python",
   "nbconvert_exporter": "python",
   "pygments_lexer": "ipython3",
   "version": "3.10.11"
  }
 },
 "nbformat": 4,
 "nbformat_minor": 5
}
