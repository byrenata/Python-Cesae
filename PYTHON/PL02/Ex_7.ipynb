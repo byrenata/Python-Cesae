{
 "cells": [
  {
   "cell_type": "markdown",
   "id": "90e3311a",
   "metadata": {},
   "source": [
    "7. Indexação\n",
    "Utilize a frase “Python é incrível!” e mostre:\n",
    "a) A primeira letra da frase;\n",
    "b) As três primeiras letras;\n",
    "c) As cinco últimas letras;\n",
    "d) A frase invertida."
   ]
  },
  {
   "cell_type": "code",
   "execution_count": 7,
   "id": "962110ae",
   "metadata": {},
   "outputs": [
    {
     "name": "stdout",
     "output_type": "stream",
     "text": [
      "P\n",
      "Pyt\n",
      "ível!\n",
      "!levírcni é nohtyP\n"
     ]
    }
   ],
   "source": [
    "frase = \"Python é incrível!\"\n",
    "print(frase[0])\n",
    "print(frase[:3])\n",
    "print(frase[-5:])\n",
    "print(frase[::-1])"
   ]
  }
 ],
 "metadata": {
  "kernelspec": {
   "display_name": "Python 3",
   "language": "python",
   "name": "python3"
  },
  "language_info": {
   "codemirror_mode": {
    "name": "ipython",
    "version": 3
   },
   "file_extension": ".py",
   "mimetype": "text/x-python",
   "name": "python",
   "nbconvert_exporter": "python",
   "pygments_lexer": "ipython3",
   "version": "3.10.11"
  }
 },
 "nbformat": 4,
 "nbformat_minor": 5
}
