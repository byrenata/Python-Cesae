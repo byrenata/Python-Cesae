{
 "cells": [
  {
   "cell_type": "markdown",
   "id": "88220ec0",
   "metadata": {},
   "source": [
    "2. Estatísticas e Transformações de Texto\n",
    "Com base numa frase inserida pelo utilizador, apresente:\n",
    "a) O número total de caracteres da frase;\n",
    "b) A frase em letras maiúsculas;\n",
    "c) A frase com a primeira letra em maiúscula;\n",
    "d) Se a frase contém apenas letras (isalpha());\n",
    "e) A frase dividida em palavras (split())."
   ]
  },
  {
   "cell_type": "code",
   "execution_count": 9,
   "id": "18e43351",
   "metadata": {},
   "outputs": [
    {
     "name": "stdout",
     "output_type": "stream",
     "text": [
      "A frase tem ao todo 8 letras\n",
      "OLÁ VIDA!\n",
      "Olá vida!\n",
      "False\n",
      "['Olá', 'vida!']\n"
     ]
    }
   ],
   "source": [
    "frase = str(input(\"Digite uma frase: \")).strip()\n",
    "print(f\"A frase tem ao todo {len(frase) - frase.count(' ')} letras\")\n",
    "print(frase.upper())\n",
    "print(frase.capitalize())\n",
    "print(frase.isalpha())\n",
    "print(frase.split())"
   ]
  },
  {
   "cell_type": "code",
   "execution_count": null,
   "id": "ee59c913",
   "metadata": {},
   "outputs": [],
   "source": []
  }
 ],
 "metadata": {
  "kernelspec": {
   "display_name": "Python 3",
   "language": "python",
   "name": "python3"
  },
  "language_info": {
   "codemirror_mode": {
    "name": "ipython",
    "version": 3
   },
   "file_extension": ".py",
   "mimetype": "text/x-python",
   "name": "python",
   "nbconvert_exporter": "python",
   "pygments_lexer": "ipython3",
   "version": "3.10.11"
  }
 },
 "nbformat": 4,
 "nbformat_minor": 5
}
