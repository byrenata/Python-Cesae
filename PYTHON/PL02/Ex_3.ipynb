{
 "cells": [
  {
   "cell_type": "markdown",
   "id": "d574c18b",
   "metadata": {},
   "source": [
    "3. F-Strings\n",
    "a) Peça ao utilizador o seu nome e idade, e imprima a mensagem formatada com f-string. Exemplo:\n",
    "“O João tem 25 anos.”\n",
    "b) Peça o raio de um círculo, calcule a área e imprima o resultado com f-string, arredondado a duas casas\n",
    "decimais."
   ]
  },
  {
   "cell_type": "code",
   "execution_count": null,
   "id": "79f11966",
   "metadata": {},
   "outputs": [],
   "source": [
    "nome = str(input(\"Digite o nome: \"))\n",
    "idade = int(input(\"Digite a idade: \"))\n",
    "print(f\"O {nome} tem {idade} anos.\")"
   ]
  },
  {
   "cell_type": "code",
   "execution_count": 1,
   "id": "afc5760e",
   "metadata": {},
   "outputs": [
    {
     "name": "stdout",
     "output_type": "stream",
     "text": [
      "A área do círculo = 13.85 metros quadrados.\n"
     ]
    }
   ],
   "source": [
    "raio = float(input(\"Infome a medida do raio: \"))\n",
    "\n",
    "import math\n",
    "area = math.pi * raio**2\n",
    "print(f\"A área do círculo = {area:.2f} metros quadrados.\")"
   ]
  }
 ],
 "metadata": {
  "kernelspec": {
   "display_name": "Python 3",
   "language": "python",
   "name": "python3"
  },
  "language_info": {
   "codemirror_mode": {
    "name": "ipython",
    "version": 3
   },
   "file_extension": ".py",
   "mimetype": "text/x-python",
   "name": "python",
   "nbconvert_exporter": "python",
   "pygments_lexer": "ipython3",
   "version": "3.10.11"
  }
 },
 "nbformat": 4,
 "nbformat_minor": 5
}
